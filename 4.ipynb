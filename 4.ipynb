{
 "cells": [
  {
   "cell_type": "code",
   "execution_count": 5,
   "metadata": {},
   "outputs": [
    {
     "data": {
      "text/plain": [
       "defaultdict(list,\n",
       "            {'CP': {'cola': 0.6, 'icet': 0.1, 'lemon': 0.3},\n",
       "             'IP': {'cola': 0.1, 'icet': 0.7, 'lemon': 0.2}})"
      ]
     },
     "execution_count": 5,
     "metadata": {},
     "output_type": "execute_result"
    }
   ],
   "source": [
    "from collections import defaultdict \n",
    "\n",
    "emission = defaultdict(list)\n",
    "\n",
    "emission['CP'] = {'cola':0.6,'icet':0.1,'lemon':0.3}\n",
    "emission['IP'] = {'cola':0.1,'icet':0.7,'lemon':0.2}\n",
    "\n",
    "emission\n"
   ]
  },
  {
   "cell_type": "code",
   "execution_count": 6,
   "metadata": {},
   "outputs": [],
   "source": [
    "transition =  {'CP':{'CP':0.7 , 'IP' : 0.3}, 'IP':{'CP':0.5 , 'IP' : 0.5}}\n",
    "\n",
    "opseq = ['lemon','icet','cola']\n",
    "\n",
    "delta = defaultdict(list)"
   ]
  },
  {
   "cell_type": "code",
   "execution_count": 7,
   "metadata": {},
   "outputs": [
    {
     "name": "stdout",
     "output_type": "stream",
     "text": [
      "['CP', 'IP', 'CP']\n"
     ]
    },
    {
     "data": {
      "text/plain": [
       "defaultdict(list,\n",
       "            {'CP': [1, 0.21, 0.0315, 0.01323],\n",
       "             'IP': [0, 0.09, 0.0315, 0.00567]})"
      ]
     },
     "execution_count": 7,
     "metadata": {},
     "output_type": "execute_result"
    }
   ],
   "source": [
    "best_state_seq = []\n",
    "\n",
    "delta['CP'].append(1)\n",
    "delta['IP'].append(0)\n",
    "\n",
    "for i in opseq:\n",
    "\n",
    "    cpscore = delta['CP'][-1]*transition['CP']['CP']*emission['CP'][i]\n",
    "    ipscore = delta['IP'][-1]*transition['IP']['CP']*emission['IP'][i]\n",
    "\n",
    "    delta['CP'].append(max(cpscore,ipscore))\n",
    "\n",
    "    if cpscore > ipscore :\n",
    "        best_state_seq.append('CP')\n",
    "\n",
    "    else:\n",
    "        best_state_seq.append('IP')\n",
    "\n",
    "        #delta cp u already appended so only -2 \n",
    "\n",
    "    cpscore = delta['IP'][-1]*transition['IP']['IP']*emission['IP'][i]\n",
    "    ipscore = delta['CP'][-2]*transition['CP']['IP']*emission['CP'][i]\n",
    "\n",
    "    delta['IP'].append(max(cpscore,ipscore))\n",
    "\n",
    "\n",
    "print(best_state_seq)\n",
    "\n",
    "delta"
   ]
  }
 ],
 "metadata": {
  "kernelspec": {
   "display_name": "Python 3",
   "language": "python",
   "name": "python3"
  },
  "language_info": {
   "codemirror_mode": {
    "name": "ipython",
    "version": 3
   },
   "file_extension": ".py",
   "mimetype": "text/x-python",
   "name": "python",
   "nbconvert_exporter": "python",
   "pygments_lexer": "ipython3",
   "version": "3.10.7"
  }
 },
 "nbformat": 4,
 "nbformat_minor": 2
}
