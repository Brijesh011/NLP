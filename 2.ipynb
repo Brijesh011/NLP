{
 "cells": [
  {
   "cell_type": "code",
   "execution_count": 8,
   "metadata": {},
   "outputs": [],
   "source": [
    "import nltk \n",
    "from nltk.tokenize import word_tokenize\n",
    "from nltk.corpus import stopwords\n",
    "from nltk import WordNetLemmatizer "
   ]
  },
  {
   "cell_type": "code",
   "execution_count": 6,
   "metadata": {},
   "outputs": [],
   "source": [
    "data = open('ex4.txt','r')\n",
    "data = data.read()"
   ]
  },
  {
   "cell_type": "code",
   "execution_count": 9,
   "metadata": {},
   "outputs": [
    {
     "name": "stderr",
     "output_type": "stream",
     "text": [
      "[nltk_data] Downloading package punkt to\n",
      "[nltk_data]     C:\\Users\\Lenovo\\AppData\\Roaming\\nltk_data...\n",
      "[nltk_data]   Package punkt is already up-to-date!\n",
      "[nltk_data] Downloading package stopwords to\n",
      "[nltk_data]     C:\\Users\\Lenovo\\AppData\\Roaming\\nltk_data...\n",
      "[nltk_data]   Package stopwords is already up-to-date!\n",
      "[nltk_data] Downloading package wordnet to\n",
      "[nltk_data]     C:\\Users\\Lenovo\\AppData\\Roaming\\nltk_data...\n",
      "[nltk_data]   Package wordnet is already up-to-date!\n"
     ]
    },
    {
     "data": {
      "text/plain": [
       "True"
      ]
     },
     "execution_count": 9,
     "metadata": {},
     "output_type": "execute_result"
    }
   ],
   "source": [
    "nltk.download('punkt')\n",
    "nltk.download('stopwords')\n",
    "nltk.download('wordnet')"
   ]
  },
  {
   "cell_type": "code",
   "execution_count": 10,
   "metadata": {},
   "outputs": [],
   "source": [
    "tokens = word_tokenize(data)\n",
    "lem = WordNetLemmatizer()\n",
    "tokens = [lem.lemmatize(token) for token in tokens]\n",
    "\n",
    "stpwords = set(stopwords.words('english'))\n"
   ]
  },
  {
   "cell_type": "code",
   "execution_count": 11,
   "metadata": {},
   "outputs": [
    {
     "name": "stdout",
     "output_type": "stream",
     "text": [
      "4 1\n",
      "12 8\n"
     ]
    }
   ],
   "source": [
    "o1 = o2 = o3 = o4 = 0\n",
    "\n",
    "verb = 'end'\n",
    "noun = 'venture'\n",
    "prep = 'with'\n",
    "\n",
    "o1 = tokens.count(verb)\n",
    "o3 = tokens.count(noun)\n",
    "\n",
    "\n",
    "for i in range(len(tokens)):\n",
    "\n",
    "    if tokens[i] == verb and tokens[i+1] == prep:\n",
    "        o2 += 1\n",
    "    elif tokens[i] == noun and tokens[i+1] == prep:\n",
    "        o4 += 1\n",
    "\n",
    "print(o1,o2)\n",
    "print(o3,o4)"
   ]
  },
  {
   "cell_type": "code",
   "execution_count": 12,
   "metadata": {},
   "outputs": [
    {
     "name": "stdout",
     "output_type": "stream",
     "text": [
      "Noun\n"
     ]
    }
   ],
   "source": [
    "from math import log2\n",
    "\n",
    "p1 = o2/o1\n",
    "p2 = o4/o3\n",
    "\n",
    "p2c = 1 - p2\n",
    "\n",
    "if log2(p1*p2c/p2) > 0:\n",
    "    print('Verb')\n",
    "\n",
    "else :\n",
    "    print('Noun')"
   ]
  }
 ],
 "metadata": {
  "kernelspec": {
   "display_name": "Python 3",
   "language": "python",
   "name": "python3"
  },
  "language_info": {
   "codemirror_mode": {
    "name": "ipython",
    "version": 3
   },
   "file_extension": ".py",
   "mimetype": "text/x-python",
   "name": "python",
   "nbconvert_exporter": "python",
   "pygments_lexer": "ipython3",
   "version": "3.10.7"
  }
 },
 "nbformat": 4,
 "nbformat_minor": 2
}
