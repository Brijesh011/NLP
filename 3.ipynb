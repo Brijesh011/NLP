{
 "cells": [
  {
   "cell_type": "code",
   "execution_count": 58,
   "metadata": {},
   "outputs": [
    {
     "data": {
      "text/plain": [
       "defaultdict(list,\n",
       "            {'CP': {'cola': 0.6, 'icet': 0.1, 'lemon': 0.3},\n",
       "             'IP': {'cola': 0.1, 'icet': 0.7, 'lemon': 0.2}})"
      ]
     },
     "execution_count": 58,
     "metadata": {},
     "output_type": "execute_result"
    }
   ],
   "source": [
    "from collections import defaultdict \n",
    "\n",
    "emission = defaultdict(list)\n",
    "\n",
    "emission['CP'] = {'cola':0.6,'icet':0.1,'lemon':0.3}\n",
    "emission['IP'] = {'cola':0.1,'icet':0.7,'lemon':0.2}\n",
    "\n",
    "emission #  automatically display emission"
   ]
  },
  {
   "cell_type": "code",
   "execution_count": 59,
   "metadata": {},
   "outputs": [],
   "source": [
    "#TP and sequence\n",
    "\n",
    "transition =  {'CP':{'CP':0.7 , 'IP' : 0.3}, 'IP':{'CP':0.5 , 'IP' : 0.5}}\n",
    "\n",
    "opseq = ['lemon','icet','cola']"
   ]
  },
  {
   "cell_type": "code",
   "execution_count": 60,
   "metadata": {},
   "outputs": [],
   "source": [
    "forward = defaultdict(list)\n",
    "backward = defaultdict(list)"
   ]
  },
  {
   "cell_type": "code",
   "execution_count": 61,
   "metadata": {},
   "outputs": [
    {
     "name": "stdout",
     "output_type": "stream",
     "text": [
      "defaultdict(<class 'list'>, {'CP': [0.5, 0.155, 0.04409999999999999, 0.020416999999999998], 'IP': [0.5, 0.095, 0.037899999999999996, 0.009832999999999998]})\n"
     ]
    },
    {
     "data": {
      "text/plain": [
       "0.030249999999999996"
      ]
     },
     "execution_count": 61,
     "metadata": {},
     "output_type": "execute_result"
    }
   ],
   "source": [
    "#pi = 0.5 and p2 = 0.5\n",
    "\n",
    "forward['CP'].append(0.5)\n",
    "forward['IP'].append(0.5)\n",
    "\n",
    "for i in opseq: #visualize\n",
    "    forward['CP'].append(forward['CP'][-1]*transition['CP']['CP']*emission['CP'][i] + forward['IP'][-1]*transition['IP']['CP']*emission['IP'][i])\n",
    "    forward['IP'].append(forward['IP'][-1]*transition['IP']['IP']*emission['IP'][i] + forward['CP'][-2]*transition['CP']['IP']*emission['CP'][i]) \n",
    "\n",
    "print(forward)\n",
    "\n",
    "forward['CP'][3] + forward['IP'][3]"
   ]
  },
  {
   "cell_type": "code",
   "execution_count": 62,
   "metadata": {},
   "outputs": [
    {
     "name": "stdout",
     "output_type": "stream",
     "text": [
      "defaultdict(<class 'list'>, {'CP': [1, 0.6, 0.045000000000000005, 0.0315], 'IP': [1, 0.1, 0.245, 0.029]})\n"
     ]
    },
    {
     "data": {
      "text/plain": [
       "0.03025"
      ]
     },
     "execution_count": 62,
     "metadata": {},
     "output_type": "execute_result"
    }
   ],
   "source": [
    "backward = defaultdict(list)\n",
    "\n",
    "backward['CP'].append(1)\n",
    "backward['IP'].append(1)\n",
    "\n",
    "for i in opseq[::-1] :#visualize\n",
    "    backward['CP'].append(backward['CP'][-1]*transition['CP']['CP']*emission['CP'][i] + backward['IP'][-1]*transition['CP']['IP']*emission['CP'][i])\n",
    "    backward['IP'].append(backward['IP'][-1]*transition['IP']['IP']*emission['IP'][i] + backward['CP'][-2]*transition['IP']['CP']*emission['IP'][i]) \n",
    "\n",
    "print(backward)\n",
    "\n",
    "backward['CP'][3]*0.5 + backward['IP'][3]*0.5"
   ]
  }
 ],
 "metadata": {
  "kernelspec": {
   "display_name": "Python 3",
   "language": "python",
   "name": "python3"
  },
  "language_info": {
   "codemirror_mode": {
    "name": "ipython",
    "version": 3
   },
   "file_extension": ".py",
   "mimetype": "text/x-python",
   "name": "python",
   "nbconvert_exporter": "python",
   "pygments_lexer": "ipython3",
   "version": "3.10.7"
  }
 },
 "nbformat": 4,
 "nbformat_minor": 2
}
