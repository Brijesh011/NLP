{
 "cells": [
  {
   "cell_type": "code",
   "execution_count": 13,
   "metadata": {},
   "outputs": [],
   "source": [
    "import nltk \n",
    "from nltk.corpus import stopwords\n",
    "from nltk.tokenize import word_tokenize"
   ]
  },
  {
   "cell_type": "code",
   "execution_count": 14,
   "metadata": {},
   "outputs": [
    {
     "name": "stdout",
     "output_type": "stream",
     "text": [
      "['this', 'is', 'a', 'sample', 'test', 'where', 'we', 'will', 'find', 'collocations', '.', 'and', 'the', 'sample', 'test', 'contains', 'various', 'components', 'and', 'all', 'these', 'are', 'sample', 'for', 'our', 'test', 'cases', 'and', 'when', 'it', 'comes', 'to', 'an', 'actual', 'test', 'you', 'are', 'so', 'strict']\n"
     ]
    }
   ],
   "source": [
    "f = open(\"sample.txt\")\n",
    "text = f.read()\n",
    "text = text.lower()\n",
    "text = word_tokenize(text)\n",
    "\n",
    "print(text)"
   ]
  },
  {
   "cell_type": "code",
   "execution_count": 21,
   "metadata": {},
   "outputs": [
    {
     "name": "stdout",
     "output_type": "stream",
     "text": [
      "['this', 'is', 76.0]\n",
      "['is', 'a', 76.0]\n",
      "['a', 'sample', 47.36842105263158]\n",
      "['sample', 'test', 45.48571428571428]\n",
      "['test', 'where', 49.323120300751874]\n",
      "['where', 'we', 76.0]\n",
      "['we', 'will', 76.0]\n",
      "['will', 'find', 76.0]\n",
      "['find', 'collocations', 76.0]\n",
      "['collocations', '.', 76.0]\n",
      "['.', 'and', 47.36842105263158]\n",
      "['and', 'the', 51.48245614035088]\n",
      "['the', 'sample', 47.36842105263158]\n",
      "['sample', 'test', 45.48571428571428]\n",
      "['test', 'contains', 49.323120300751874]\n",
      "['contains', 'various', 76.0]\n",
      "['various', 'components', 76.0]\n",
      "['components', 'and', 47.36842105263158]\n",
      "['and', 'all', 51.48245614035088]\n",
      "['all', 'these', 76.0]\n",
      "['these', 'are', 55.01315789473684]\n",
      "['are', 'sample', 41.476351351351354]\n",
      "['sample', 'for', 51.48245614035088]\n",
      "['for', 'our', 76.0]\n",
      "['our', 'test', 43.05921052631579]\n",
      "['test', 'cases', 49.323120300751874]\n",
      "['cases', 'and', 47.36842105263158]\n",
      "['and', 'when', 51.48245614035088]\n",
      "['when', 'it', 76.0]\n",
      "['it', 'comes', 76.0]\n",
      "['comes', 'to', 76.0]\n",
      "['to', 'an', 76.0]\n",
      "['an', 'actual', 76.0]\n",
      "['actual', 'test', 43.05921052631579]\n",
      "['test', 'you', 49.323120300751874]\n",
      "['you', 'are', 55.01315789473684]\n",
      "['are', 'so', 57.040896159317214]\n",
      "['so', 'strict', 76.0]\n"
     ]
    }
   ],
   "source": [
    "\n",
    "def collacation (w1,w2):\n",
    "    nl = []\n",
    "\n",
    "    N = len(text)\n",
    "    pw1 = text.count(w1)\n",
    "    pw2 = text.count(w2)\n",
    "\n",
    "    Ew1w2 = (pw1*pw2)/N\n",
    "    Ew1nw2 = (pw1*(N-pw2))/N\n",
    "    Enw1w2 = ((N-pw1)*(pw2))/N\n",
    "    Enw1nw2 = ((N-pw1)*(N - pw2))/N\n",
    "\n",
    "    #finding the combination they occured together prob \n",
    "\n",
    "    j = 0\n",
    "\n",
    "    for i in range(len(text)-1):\n",
    "        if text[i] == w1 and text[i+1] == w2 :\n",
    "            j += 1\n",
    "\n",
    "    pw12 = j\n",
    "\n",
    "    Ow1w2 = pw12\n",
    "    Ow1nw2 = pw1 - pw12\n",
    "    Onw1w2 = pw2 - pw12\n",
    "    Onw1nw2 = N-pw12\n",
    "\n",
    "\n",
    "    X = (((Ow1w2-Ew1w2)**2)/Ew1w2) +  (((Ow1nw2-Ew1nw2)**2)/Ew1nw2) +  (((Onw1w2-Enw1w2)**2)/Enw1w2)  +  (((Onw1nw2-Enw1w2)**2)/Enw1nw2) \n",
    "    \n",
    "    if X > 2.5:\n",
    "        nl.append(w1)\n",
    "        nl.append(w2)\n",
    "        nl.append(X)\n",
    "\n",
    "    return nl\n",
    "\n",
    "\n",
    "fcol = []\n",
    "\n",
    "for i in range(len(text)-1):\n",
    "    w1 = text[i]\n",
    "    w2 = text[i+1]\n",
    "    fcol.append(collacation(w1,w2))\n",
    "\n",
    "\n",
    "for i in fcol:\n",
    "    print(i)\n",
    "\n"
   ]
  },
  {
   "cell_type": "code",
   "execution_count": null,
   "metadata": {},
   "outputs": [],
   "source": []
  }
 ],
 "metadata": {
  "kernelspec": {
   "display_name": "Python 3",
   "language": "python",
   "name": "python3"
  },
  "language_info": {
   "codemirror_mode": {
    "name": "ipython",
    "version": 3
   },
   "file_extension": ".py",
   "mimetype": "text/x-python",
   "name": "python",
   "nbconvert_exporter": "python",
   "pygments_lexer": "ipython3",
   "version": "3.10.7"
  }
 },
 "nbformat": 4,
 "nbformat_minor": 2
}
