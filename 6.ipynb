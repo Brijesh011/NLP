{
 "cells": [
  {
   "cell_type": "code",
   "execution_count": 1,
   "metadata": {},
   "outputs": [],
   "source": [
    "import nltk \n",
    "import string \n",
    "import re  # regular expression "
   ]
  },
  {
   "cell_type": "code",
   "execution_count": 3,
   "metadata": {},
   "outputs": [
    {
     "data": {
      "text/plain": [
       "'hello makkaley'"
      ]
     },
     "execution_count": 3,
     "metadata": {},
     "output_type": "execute_result"
    }
   ],
   "source": [
    "ip_str = \"Hello Makkaley\"\n",
    "ip_str.lower()"
   ]
  },
  {
   "cell_type": "code",
   "execution_count": 6,
   "metadata": {},
   "outputs": [
    {
     "data": {
      "text/plain": [
       "'Enna makkaley  intha  task papomaa'"
      ]
     },
     "execution_count": 6,
     "metadata": {},
     "output_type": "execute_result"
    }
   ],
   "source": [
    "removeno = \"Enna makkaley 12 intha 10 task papomaa\"\n",
    "removeno = re.sub(r'\\d+','',removeno); # re.sub substitution expreession \n",
    "# \\d if any no comes means substitue ' ' \n",
    "\n",
    "removeno"
   ]
  },
  {
   "cell_type": "code",
   "execution_count": 12,
   "metadata": {},
   "outputs": [
    {
     "name": "stdout",
     "output_type": "stream",
     "text": [
      "Enna makkaley  purithaa\n"
     ]
    }
   ],
   "source": [
    "removepunc = \"Enna makkaley ! purithaa,\"\n",
    "removepunc = re.sub(r'[!,]','',removepunc) # this is a way of representation \n",
    "#my way \n",
    "#removepunc\n",
    "\n",
    "rp = \"Enna makkaley ! purithaa,\"\n",
    "translator = str.maketrans('','',string.punctuation)\n",
    "print(rp.translate(translator))\n",
    "\n"
   ]
  },
  {
   "cell_type": "code",
   "execution_count": 14,
   "metadata": {},
   "outputs": [
    {
     "name": "stdout",
     "output_type": "stream",
     "text": [
      "['Kumuthaa happy annachii']\n",
      "['Kumuthaa', 'happy', 'annachii']\n"
     ]
    }
   ],
   "source": [
    "from nltk.tokenize import word_tokenize,sent_tokenize\n",
    "\n",
    "text = \"Kumuthaa happy annachii\"\n",
    "\n",
    "print(sent_tokenize(text))\n",
    "print(word_tokenize(text))"
   ]
  },
  {
   "cell_type": "code",
   "execution_count": 15,
   "metadata": {},
   "outputs": [
    {
     "data": {
      "text/plain": [
       "['Kumuthaa', 'happy', 'annachii']"
      ]
     },
     "execution_count": 15,
     "metadata": {},
     "output_type": "execute_result"
    }
   ],
   "source": [
    "from nltk.corpus import stopwords\n",
    "from nltk.tokenize import word_tokenize\n",
    "\n",
    "text = \"Kumuthaa is happy annachii\"\n",
    "\n",
    "word = set(stopwords.words(\"english\"))\n",
    "tk = word_tokenize(text)\n",
    "txt = [w for w in tk if w not in word]\n",
    "\n",
    "txt"
   ]
  },
  {
   "cell_type": "code",
   "execution_count": 16,
   "metadata": {},
   "outputs": [
    {
     "data": {
      "text/plain": [
       "['kumuthaa', 'is', 'happi', 'annachii']"
      ]
     },
     "execution_count": 16,
     "metadata": {},
     "output_type": "execute_result"
    }
   ],
   "source": [
    "from nltk.stem.porter import PorterStemmer\n",
    "from nltk.tokenize import word_tokenize\n",
    "\n",
    "stemmer = PorterStemmer()\n",
    "\n",
    "\n",
    "text = \"Kumuthaa is happy annachii\"\n",
    "\n",
    "word = word_tokenize(text)\n",
    "stems = [stemmer.stem(w) for w in word ]\n",
    "\n",
    "stems\n",
    "\n"
   ]
  },
  {
   "cell_type": "code",
   "execution_count": null,
   "metadata": {},
   "outputs": [],
   "source": []
  }
 ],
 "metadata": {
  "kernelspec": {
   "display_name": "Python 3",
   "language": "python",
   "name": "python3"
  },
  "language_info": {
   "codemirror_mode": {
    "name": "ipython",
    "version": 3
   },
   "file_extension": ".py",
   "mimetype": "text/x-python",
   "name": "python",
   "nbconvert_exporter": "python",
   "pygments_lexer": "ipython3",
   "version": "3.10.7"
  }
 },
 "nbformat": 4,
 "nbformat_minor": 2
}
