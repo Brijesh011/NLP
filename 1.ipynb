{
 "cells": [
  {
   "cell_type": "code",
   "execution_count": 16,
   "metadata": {},
   "outputs": [],
   "source": [
    "from collections import defaultdict\n",
    "training = defaultdict(list)"
   ]
  },
  {
   "cell_type": "code",
   "execution_count": 17,
   "metadata": {},
   "outputs": [
    {
     "data": {
      "text/plain": [
       "defaultdict(list,\n",
       "            {'f': [['fish', 'smoked', 'fish'],\n",
       "              ['fish', 'line'],\n",
       "              ['fish', 'haul', 'smoked']],\n",
       "             'g': [['line', 'jazz', 'guitar']]})"
      ]
     },
     "execution_count": 17,
     "metadata": {},
     "output_type": "execute_result"
    }
   ],
   "source": [
    "training['f'] = [['fish','smoked','fish'],['fish','line'],['fish','haul','smoked']]\n",
    "training['g'] = [['line','jazz','guitar']]\n",
    "training "
   ]
  },
  {
   "cell_type": "code",
   "execution_count": 18,
   "metadata": {},
   "outputs": [],
   "source": [
    "f = len(training['f'])\n",
    "g = len(training['g'])\n",
    "\n",
    "pcf = f/(f+g)\n",
    "pcg = g/(f+g)"
   ]
  },
  {
   "cell_type": "code",
   "execution_count": 19,
   "metadata": {},
   "outputs": [],
   "source": [
    "test = ['line','guitar','jazz']\n",
    "unique_words = []\n",
    "\n",
    "for i in training:\n",
    "    for j in training[i]:\n",
    "        for k in j:\n",
    "            if k not in unique_words:\n",
    "                unique_words.append(k)\n",
    "\n",
    "unique_words = len(unique_words)\n"
   ]
  },
  {
   "cell_type": "code",
   "execution_count": 20,
   "metadata": {},
   "outputs": [
    {
     "name": "stdout",
     "output_type": "stream",
     "text": [
      "The given word belongs to class g\n"
     ]
    }
   ],
   "source": [
    "test_f = []\n",
    "test_g = []\n",
    "\n",
    "for i in test:\n",
    "    c1 = c2 = 0\n",
    "    for j in training['f']:\n",
    "        c1 += j.count(i)\n",
    "\n",
    "    for k in training['g']:\n",
    "        c2 += k.count(i)\n",
    "\n",
    "    test_f.append(c1)\n",
    "    test_g.append(c2)\n",
    "\n",
    "pft = pcf #  initial probability \n",
    "pgt = pcg\n",
    "\n",
    "for i in range(len(test)):\n",
    "\n",
    "    pft *= (test_f[i]+1)/(f+unique_words)\n",
    "    pgt *= (test_g[i]+1)/(g+unique_words)\n",
    "\n",
    "pft,pgt\n",
    "\n",
    "if pft > pgt :\n",
    "    print(\"The given word belongs to class f\")\n",
    "\n",
    "else :\n",
    "     print(\"The given word belongs to class g\")\n",
    "\n",
    "\n",
    "    "
   ]
  }
 ],
 "metadata": {
  "kernelspec": {
   "display_name": "Python 3",
   "language": "python",
   "name": "python3"
  },
  "language_info": {
   "codemirror_mode": {
    "name": "ipython",
    "version": 3
   },
   "file_extension": ".py",
   "mimetype": "text/x-python",
   "name": "python",
   "nbconvert_exporter": "python",
   "pygments_lexer": "ipython3",
   "version": "3.10.7"
  }
 },
 "nbformat": 4,
 "nbformat_minor": 2
}
