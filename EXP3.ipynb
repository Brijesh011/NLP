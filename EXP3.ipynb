{
 "cells": [
  {
   "cell_type": "code",
   "execution_count": 15,
   "metadata": {},
   "outputs": [],
   "source": [
    "from collections import defaultdict\n",
    "training = defaultdict(list)"
   ]
  },
  {
   "cell_type": "code",
   "execution_count": 27,
   "metadata": {},
   "outputs": [
    {
     "data": {
      "text/plain": [
       "['chair put coat',\n",
       " 'chair IT department',\n",
       " 'where here put chair',\n",
       " 'CSE chair head']"
      ]
     },
     "execution_count": 27,
     "metadata": {},
     "output_type": "execute_result"
    }
   ],
   "source": [
    "#training['f']=[['fish','smoked','fish'],['fish','line'],['fish','haul','smoked']]\n",
    "#training['g'] = [['guitar','jazz','line']]\n",
    "#training\n",
    "f = open(\"sam2.txt\")\n",
    "txt = f.readlines()\n",
    "\n",
    "txt = [i.strip() for i  in txt]\n",
    "\n",
    "\n"
   ]
  },
  {
   "cell_type": "code",
   "execution_count": 14,
   "metadata": {},
   "outputs": [],
   "source": [
    "f = len(training['f'])\n",
    "g = len(training['g'])\n",
    "pcf = f/(f+g)\n",
    "pcg = g/(f+g)"
   ]
  },
  {
   "cell_type": "code",
   "execution_count": 15,
   "metadata": {},
   "outputs": [],
   "source": [
    "test = ['line','guitar','jazz','jazz']\n",
    "pfs = []\n",
    "pfg = []\n",
    "unique_words = []\n",
    "for i in training :\n",
    "    for j in training[i] :\n",
    "        for k in j :\n",
    "            if k not in unique_words :\n",
    "                unique_words.append(k)\n",
    "\n",
    "unique_words = len(unique_words)"
   ]
  },
  {
   "cell_type": "code",
   "execution_count": 17,
   "metadata": {},
   "outputs": [
    {
     "data": {
      "text/plain": [
       "(0.00022862368541380884, 0.0016659725114535606)"
      ]
     },
     "execution_count": 17,
     "metadata": {},
     "output_type": "execute_result"
    }
   ],
   "source": [
    "test_f = []\n",
    "test_g = []\n",
    "for i in test :\n",
    "    c1 = c2 = 0\n",
    "    for j in training['f'] :\n",
    "        c1+=j.count(i)\n",
    "    for k in training['g'] :\n",
    "        c2+=k.count(i)\n",
    "    test_f.append(c1)\n",
    "    test_g.append(c2)\n",
    "\n",
    "pft = pcf\n",
    "pgt = pcg\n",
    "\n",
    "for i in range(len(test)) :\n",
    "    pft*=(test_f[i]+1)/(f+unique_words)\n",
    "    pgt*=(test_g[i]+1)/(g+unique_words)\n",
    "\n",
    "pft,pgt\n",
    "\n",
    "if pgt>pft :\n",
    "    print('Class :',g)\n",
    "else :\n",
    "    print('Class :',f)"
   ]
  }
 ],
 "metadata": {
  "kernelspec": {
   "display_name": "Python 3",
   "language": "python",
   "name": "python3"
  },
  "language_info": {
   "codemirror_mode": {
    "name": "ipython",
    "version": 3
   },
   "file_extension": ".py",
   "mimetype": "text/x-python",
   "name": "python",
   "nbconvert_exporter": "python",
   "pygments_lexer": "ipython3",
   "version": "3.10.7"
  },
  "orig_nbformat": 4
 },
 "nbformat": 4,
 "nbformat_minor": 2
}
